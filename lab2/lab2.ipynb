{
 "cells": [
  {
   "cell_type": "markdown",
   "metadata": {},
   "source": [
    "### Лабораторная работа 2. Решение задачи о рюкзаке 0-1.\n"
   ]
  },
  {
   "cell_type": "markdown",
   "metadata": {},
   "source": [
    "# Выполнили: Баринов Даниил, Бугров Лев, Голованов Денис"
   ]
  },
  {
   "cell_type": "code",
   "execution_count": 25,
   "metadata": {},
   "outputs": [],
   "source": [
    "import copy\n",
    "from queue import PriorityQueue\n",
    "from tabulate import tabulate\n",
    "\n",
    "class item():\n",
    "    def __init__(self, w, p, idx = 0):\n",
    "        self.w = w\n",
    "        self.p = p\n",
    "        self.idx = idx"
   ]
  },
  {
   "cell_type": "markdown",
   "metadata": {},
   "source": [
    "### Динамическое программирование"
   ]
  },
  {
   "cell_type": "code",
   "execution_count": 26,
   "metadata": {},
   "outputs": [],
   "source": [
    "def create_tables(items, A, n, W):\n",
    "    comp_num = 0\n",
    "    for i in range(0, n+1): \n",
    "        A.append([])\n",
    "        for j in range(0, W+1):\n",
    "            A[i].append(0)\n",
    "    for i in range(0, n+1):\n",
    "        for j in range(0, W+1):\n",
    "            comp_num +=1\n",
    "            if i == 0 or j == 0:\n",
    "                A[i][j] = 0\n",
    "            elif items[i - 1].w <= j:\n",
    "                A[i][j] = max(A[i - 1][j], A[i - 1][j - items[i - 1].w] + items[i - 1].p)\n",
    "            else:\n",
    "                A[i][j] = A[i - 1][j]\n",
    "    return comp_num\n",
    "   \n",
    "\n",
    "def dynamic(items, W):\n",
    "    A = []\n",
    "    k = []\n",
    "    n = len(items)\n",
    "    comp_num = create_tables(items, A, n, W)\n",
    "    for i in range(0, n):\n",
    "        k.append(0)\n",
    "    capacity = W + 1\n",
    "    for i in range(n, 0, -1):\n",
    "        comp_num += 1\n",
    "        if A[i][capacity - 1] > A[i - 1][capacity - 1]:\n",
    "            k[i - 1] = 1\n",
    "            capacity = capacity - items[i - 1].w\n",
    "\n",
    "    value = A[n][W]\n",
    "    return value, k, comp_num\n"
   ]
  },
  {
   "cell_type": "markdown",
   "metadata": {},
   "source": [
    "### Метод ветвей и границ"
   ]
  },
  {
   "cell_type": "code",
   "execution_count": 27,
   "metadata": {},
   "outputs": [],
   "source": [
    "class node():\n",
    "    def __init__(self, lvl, p, w, ub):\n",
    "        self.lvl = lvl\n",
    "        self.p = p\n",
    "        self.w = w\n",
    "        self.ub = ub\n",
    "        \n",
    "        self.indexes = []\n",
    "\n",
    "from dataclasses import dataclass, field\n",
    "from typing import Any\n",
    "\n",
    "@dataclass(order=True)\n",
    "class PrioritizedItem:\n",
    "    priority: int\n",
    "    item: Any=field(compare=False)\n",
    "\n",
    "def branch_and_bound(items, W):\n",
    "    comp_num = 0\n",
    "    n = len(items)\n",
    "    items.sort(key = lambda item: item.p / item.w, reverse=True)\n",
    "    PQ = PriorityQueue()\n",
    "    PQ.put(PrioritizedItem(-W,node(-1,0,0,0)))\n",
    "    best_p = 0\n",
    "    best_x = [0]*n #idk how to correctly save the solution\n",
    "    \n",
    "    while (not PQ.empty()):\n",
    "        u = PQ.get().item\n",
    "        v = copy.copy(u)\n",
    "        \n",
    "        if u.lvl == n - 2:\n",
    "            continue\n",
    "        \n",
    "        #case: x_j = 1\n",
    "        v.lvl += 1\n",
    "        v.w += items[v.lvl].w\n",
    "        v.p += items[v.lvl].p\n",
    "        \n",
    "        comp_num += 1\n",
    "        if (v.w <= W and v.p > best_p):\n",
    "            best_p = v.p\n",
    "        \n",
    "        if v.w < W: \n",
    "            v.ub = v.p + (W - v.w)*(items[v.lvl + 1].p / items[v.lvl + 1].w)\n",
    "        else:\n",
    "            v.ub = v.p\n",
    "        \n",
    "        comp_num += 1\n",
    "        if (v.ub > best_p):\n",
    "            PQ.put(PrioritizedItem(-v.ub, copy.copy(v)))\n",
    "            \n",
    "        \n",
    "        #case: x_j = 0\n",
    "        u.lvl += 1\n",
    "        \n",
    "        if u.w < W:\n",
    "            u.ub = u.p + (W - u.w)*(items[u.lvl + 1].p / items[u.lvl + 1].w)\n",
    "        else:\n",
    "            u.ub = u.p\n",
    "            \n",
    "        comp_num += 1\n",
    "        if u.ub > best_p:\n",
    "            PQ.put(PrioritizedItem(-u.ub, copy.copy(u)))\n",
    "    return best_p, best_x, comp_num\n",
    "\n"
   ]
  },
  {
   "cell_type": "markdown",
   "metadata": {},
   "source": [
    "\n",
    "### 2-approx алгоритм"
   ]
  },
  {
   "cell_type": "code",
   "execution_count": 28,
   "metadata": {},
   "outputs": [],
   "source": [
    "def greedy_quality(items, W):\n",
    "    comp_num = 0\n",
    "    items.sort(key = lambda item: item.p / item.w, reverse=True)\n",
    "    \n",
    "    n = len(items)\n",
    "    j = 0\n",
    "    sum_p = 0\n",
    "    sum_w = 0\n",
    "    x = [0]*n\n",
    "    \n",
    "    while j < n and sum_w + items[j].w <= W:\n",
    "        comp_num += 2\n",
    "        sum_w += items[j].w\n",
    "        sum_p += items[j].p\n",
    "        x[items[j].idx] = 1\n",
    "        j += 1\n",
    "        \n",
    "    return sum_p, x, comp_num\n",
    "\n",
    "\n",
    "def greedy_profit(items, W):\n",
    "    comp_num = 0\n",
    "    items.sort(key = lambda item: item.p, reverse=True)\n",
    "    \n",
    "    n = len(items)\n",
    "    j = 0\n",
    "    sum_p = 0\n",
    "    sum_w = 0\n",
    "    x = [0]*n\n",
    "    \n",
    "    while j < n and sum_w + items[j].w <= W:\n",
    "        comp_num += 2\n",
    "        sum_w += items[j].w\n",
    "        sum_p += items[j].p\n",
    "        x[items[j].idx] = 1\n",
    "        j += 1\n",
    "        \n",
    "    return sum_p, x, comp_num\n",
    "\n",
    "\n",
    "def approx2(items, W):\n",
    "    \n",
    "    greedy_quality_res = greedy_quality(items, W)\n",
    "    greedy_profit_res = greedy_profit(items, W)\n",
    "    \n",
    "    if greedy_profit_res[0] > greedy_quality_res[0]:\n",
    "        return greedy_profit_res[0], greedy_profit_res[1], greedy_profit_res[2] + greedy_quality_res[2]\n",
    "    else:\n",
    "        return greedy_quality_res[0], greedy_quality_res[1],  greedy_profit_res[2] + greedy_quality_res[2]"
   ]
  },
  {
   "cell_type": "markdown",
   "metadata": {},
   "source": [
    "### PTAS"
   ]
  },
  {
   "cell_type": "code",
   "execution_count": 29,
   "metadata": {},
   "outputs": [],
   "source": [
    "def get_subsets(arr, k):\n",
    "    n = len(arr)\n",
    "    tmp = list(range(k))\n",
    "    subsets = []\n",
    "    def get_subsets_rec(idx, a, i):\n",
    "        if idx == k:\n",
    "            subsets.append(a.copy())\n",
    "            return\n",
    "        if i >= n:\n",
    "            return\n",
    "        a[idx] = arr[i]\n",
    "        get_subsets_rec(idx + 1, a, i + 1)\n",
    "        get_subsets_rec(idx, a, i + 1) \n",
    "        \n",
    "    get_subsets_rec(0, tmp, 0)\n",
    "    return subsets\n",
    "\n",
    "def GS(W, items, subset):\n",
    "    sum_p = 0\n",
    "    sum_w = 0\n",
    "    X = []\n",
    "    for idx in subset:\n",
    "        sum_w += items[idx].w\n",
    "    available_w = W - sum_w\n",
    "    \n",
    "    for idx in range(len(items)):\n",
    "        if idx not in subset and items[idx].w <= available_w:\n",
    "            sum_p += items[idx].p\n",
    "            available_w -= items[idx].w\n",
    "            X.append(idx)\n",
    "\n",
    "    return sum_p, X\n",
    "\n",
    "def ptas(items, W, k=2):\n",
    "    comp_num = 0\n",
    "    indexes = list(range(len(items)))\n",
    "    subsets = get_subsets(indexes, k)\n",
    "    best_p = 0\n",
    "    best_x = []\n",
    "    \n",
    "    for subset in subsets:\n",
    "        subset_w = 0\n",
    "        subset_p = 0\n",
    "        for idx in subset:\n",
    "            subset_w += items[idx].w\n",
    "            subset_p += items[idx].p\n",
    "\n",
    "        comp_num += 1\n",
    "        if subset_w <= W:\n",
    "            p, X = GS(W, items, subset)\n",
    "            comp_num += 1\n",
    "            if p + subset_p > best_p:\n",
    "                best_p = p + subset_p\n",
    "                best_x = list(set(X) | set(subset))  \n",
    "    return best_p, best_x, comp_num\n",
    "\n"
   ]
  },
  {
   "cell_type": "markdown",
   "metadata": {},
   "source": [
    "### Тесты, бенчмарки"
   ]
  },
  {
   "cell_type": "code",
   "execution_count": 30,
   "metadata": {},
   "outputs": [],
   "source": [
    "import os\n",
    "\n",
    "def create_data(path, number):\n",
    "    weights = []\n",
    "    values = []\n",
    "    answers = []\n",
    "    W = 0\n",
    "    for filename in sorted(os.listdir(path)):\n",
    "        inp = open(path + '/' + filename).read()\n",
    "        if str(number) in filename:\n",
    "            if \"_c\" in filename:\n",
    "                W = int(inp)\n",
    "            elif \"_p\" in filename:\n",
    "                values = list(map(int, inp.split()))\n",
    "            elif \"_s\" in filename:\n",
    "                answers = list(map(int, inp.split()))\n",
    "            elif \"_w\" in filename:\n",
    "                weights = list(map(int, inp.split()))  \n",
    "    items = []\n",
    "    for i in range(len(weights)):\n",
    "        items.append(item(weights[i], values[i], i))\n",
    "    \n",
    "    return items, answers, W"
   ]
  },
  {
   "cell_type": "code",
   "execution_count": 31,
   "metadata": {},
   "outputs": [],
   "source": [
    "import time\n",
    "\n",
    "def tests(alg):\n",
    "    for i in range(1, 7):\n",
    "        items,answers,W = create_data('benchmarks', i)\n",
    "        \n",
    "        correct_value = 0\n",
    "        for i in range(len(answers)):\n",
    "            correct_value += answers[i]*items[i].p\n",
    "        print(f'Correct value: {correct_value}')\n",
    "        \n",
    "        solution = alg(items, W)[0]\n",
    "        print(f'Value {solution}')\n",
    "        assert solution >= correct_value / 2 and solution <= correct_value\n",
    "        print('Success')\n",
    "\n",
    "            \n",
    "def measure_algorithm_time(alg, items, W):\n",
    "    start_time = time.time()\n",
    "    for i in range(100):\n",
    "        solution = alg(items, W)\n",
    "    end_time = time.time()\n",
    "    return round((end_time - start_time)/100, 5), solution[2]\n",
    "\n",
    "\n",
    "def compute_results():\n",
    "    results = {'benchmark_1':[], 'benchmark_2':[],'benchmark_3':[], 'benchmark_4':[],'benchmark_5':[], 'benchmark_6':[],'benchmark_7':[]}\n",
    "    \n",
    "    for i in range(1, 8):\n",
    "        items,answers,W = create_data('benchmarks', i)\n",
    "        \n",
    "        results[f'benchmark_{i}'].append(measure_algorithm_time(dynamic, items, W))\n",
    "        results[f'benchmark_{i}'].append(measure_algorithm_time(branch_and_bound, items, W))\n",
    "        results[f'benchmark_{i}'].append(measure_algorithm_time(approx2, items, W))\n",
    "        results[f'benchmark_{i}'].append(measure_algorithm_time(ptas, items, W))\n",
    "    return results"
   ]
  },
  {
   "cell_type": "code",
   "execution_count": 32,
   "metadata": {},
   "outputs": [],
   "source": [
    "def display_table_of_results(results):\n",
    "    table_time = [[' ', 'Dynamic', 'Branch and Bounds', '2-approximation' ,'PTAS']]\n",
    "    \n",
    "    for benchmark in results:\n",
    "        table_time.append([benchmark] + list(map(lambda x: f'{x[0]} / {x[1]}', results[benchmark])))\n",
    "    \n",
    "    print('Measurments of running time of algorithms and the number of comparisons (time, s / comparions number)')\n",
    "    print(tabulate(table_time, tablefmt='fancy_grid'))"
   ]
  },
  {
   "cell_type": "code",
   "execution_count": 33,
   "metadata": {},
   "outputs": [],
   "source": [
    "res = compute_results()"
   ]
  },
  {
   "cell_type": "code",
   "execution_count": 34,
   "metadata": {},
   "outputs": [
    {
     "name": "stdout",
     "output_type": "stream",
     "text": [
      "Measurments of running time of algorithms and the number of comparisons (time, s / comparions number)\n",
      "╒═════════════╤═════════════════╤═══════════════════╤═════════════════╤═══════════════╕\n",
      "│             │ Dynamic         │ Branch and Bounds │ 2-approximation │ PTAS          │\n",
      "├─────────────┼─────────────────┼───────────────────┼─────────────────┼───────────────┤\n",
      "│ benchmark_1 │ 0.00098 / 1836  │ 0.00066 / 96      │ 1e-05 / 12      │ 0.00014 / 87  │\n",
      "├─────────────┼─────────────────┼───────────────────┼─────────────────┼───────────────┤\n",
      "│ benchmark_2 │ 8e-05 / 167     │ 0.00017 / 33      │ 0.0 / 8         │ 3e-05 / 20    │\n",
      "├─────────────┼─────────────────┼───────────────────┼─────────────────┼───────────────┤\n",
      "│ benchmark_3 │ 0.0004 / 1343   │ 0.00039 / 63      │ 0.0 / 8         │ 5e-05 / 30    │\n",
      "├─────────────┼─────────────────┼───────────────────┼─────────────────┼───────────────┤\n",
      "│ benchmark_4 │ 0.00021 / 415   │ 0.00058 / 75      │ 1e-05 / 6       │ 6e-05 / 41    │\n",
      "├─────────────┼─────────────────┼───────────────────┼─────────────────┼───────────────┤\n",
      "│ benchmark_5 │ 0.00068 / 953   │ 0.00104 / 141     │ 1e-05 / 8       │ 0.0001 / 56   │\n",
      "├─────────────┼─────────────────┼───────────────────┼─────────────────┼───────────────┤\n",
      "│ benchmark_6 │ 0.00075 / 1375  │ 0.00108 / 156     │ 1e-05 / 10      │ 7e-05 / 42    │\n",
      "├─────────────┼─────────────────┼───────────────────┼─────────────────┼───────────────┤\n",
      "│ benchmark_7 │ 0.00674 / 12031 │ 0.0149 / 1908     │ 1e-05 / 26      │ 0.00038 / 210 │\n",
      "╘═════════════╧═════════════════╧═══════════════════╧═════════════════╧═══════════════╛\n"
     ]
    }
   ],
   "source": [
    "display_table_of_results(res)"
   ]
  },
  {
   "cell_type": "code",
   "execution_count": 35,
   "metadata": {},
   "outputs": [
    {
     "name": "stdout",
     "output_type": "stream",
     "text": [
      "Correct value: 309\n",
      "Value 309\n",
      "Success\n",
      "Correct value: 51\n",
      "Value 51\n",
      "Success\n",
      "Correct value: 150\n",
      "Value 150\n",
      "Success\n",
      "Correct value: 107\n",
      "Value 107\n",
      "Success\n",
      "Correct value: 900\n",
      "Value 900\n",
      "Success\n",
      "Correct value: 1735\n",
      "Value 1735\n",
      "Success\n"
     ]
    }
   ],
   "source": [
    "tests(dynamic)"
   ]
  },
  {
   "cell_type": "code",
   "execution_count": 36,
   "metadata": {},
   "outputs": [
    {
     "name": "stdout",
     "output_type": "stream",
     "text": [
      "Correct value: 309\n",
      "Value 266\n",
      "Success\n",
      "Correct value: 51\n",
      "Value 47\n",
      "Success\n",
      "Correct value: 150\n",
      "Value 114\n",
      "Success\n",
      "Correct value: 107\n",
      "Value 90\n",
      "Success\n",
      "Correct value: 900\n",
      "Value 850\n",
      "Success\n",
      "Correct value: 1735\n",
      "Value 1478\n",
      "Success\n"
     ]
    }
   ],
   "source": [
    "tests(approx2)"
   ]
  },
  {
   "cell_type": "code",
   "execution_count": 37,
   "metadata": {},
   "outputs": [
    {
     "name": "stdout",
     "output_type": "stream",
     "text": [
      "Correct value: 309\n",
      "Value 309\n",
      "Success\n",
      "Correct value: 51\n",
      "Value 51\n",
      "Success\n",
      "Correct value: 150\n",
      "Value 150\n",
      "Success\n",
      "Correct value: 107\n",
      "Value 107\n",
      "Success\n",
      "Correct value: 900\n",
      "Value 898\n",
      "Success\n",
      "Correct value: 1735\n",
      "Value 1735\n",
      "Success\n"
     ]
    }
   ],
   "source": [
    "tests(branch_and_bound)"
   ]
  },
  {
   "cell_type": "code",
   "execution_count": 38,
   "metadata": {},
   "outputs": [
    {
     "name": "stdout",
     "output_type": "stream",
     "text": [
      "Correct value: 309\n",
      "Value 309\n",
      "Success\n",
      "Correct value: 51\n",
      "Value 51\n",
      "Success\n",
      "Correct value: 150\n",
      "Value 150\n",
      "Success\n",
      "Correct value: 107\n",
      "Value 107\n",
      "Success\n",
      "Correct value: 900\n",
      "Value 900\n",
      "Success\n",
      "Correct value: 1735\n",
      "Value 1652\n",
      "Success\n"
     ]
    }
   ],
   "source": [
    "tests(ptas)"
   ]
  }
 ],
 "metadata": {
  "interpreter": {
   "hash": "dc2c25a09ac0e15491bb8d3e1ee7c28404e6066cac7389b3bf208d54d9076c1d"
  },
  "kernelspec": {
   "display_name": "Python 3.10.1 64-bit",
   "language": "python",
   "name": "python3"
  },
  "language_info": {
   "codemirror_mode": {
    "name": "ipython",
    "version": 3
   },
   "file_extension": ".py",
   "mimetype": "text/x-python",
   "name": "python",
   "nbconvert_exporter": "python",
   "pygments_lexer": "ipython3",
   "version": "3.10.1"
  },
  "orig_nbformat": 4
 },
 "nbformat": 4,
 "nbformat_minor": 2
}

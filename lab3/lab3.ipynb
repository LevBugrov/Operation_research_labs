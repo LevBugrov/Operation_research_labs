{
 "cells": [
  {
   "cell_type": "markdown",
   "metadata": {},
   "source": [
    "# Лабораторная работа 3. Генетические алгоритмы."
   ]
  },
  {
   "cell_type": "markdown",
   "metadata": {},
   "source": [
    "# Выполнили: Баринов Даниил, Бугров Лев, Голованов Денис"
   ]
  },
  {
   "cell_type": "code",
   "execution_count": 1,
   "metadata": {},
   "outputs": [],
   "source": [
    "import time\n",
    "import os\n",
    "import random\n",
    "from tabulate import tabulate"
   ]
  },
  {
   "cell_type": "markdown",
   "metadata": {},
   "source": [
    "## Задача о рюкзаке"
   ]
  },
  {
   "cell_type": "code",
   "execution_count": 2,
   "metadata": {},
   "outputs": [],
   "source": [
    "class KnapsackGeneticSolver():\n",
    "    def __init__(self, w, p, W, population_size, num_groups, debug = False):\n",
    "        self.w = w\n",
    "        self.p = p\n",
    "        self.W = W\n",
    "        self.num_groups = num_groups\n",
    "        self.size = len(w)\n",
    "        self.population_size = population_size\n",
    "        self.items = [i for i in range(self.size)]\n",
    "        self.fitness_values = []\n",
    "        self.population = []\n",
    "        self.best = 0\n",
    "        self.best_solution = []\n",
    "        self.debug = debug\n",
    "    \n",
    "    \n",
    "    def calc_fitness(self, chromosome):\n",
    "        fitness_value = 0\n",
    "        for i in range(self.size):\n",
    "            fitness_value += chromosome[i] * self.p[i]\n",
    "        if fitness_value >= self.best:\n",
    "            self.best = fitness_value\n",
    "            self.best_solution = chromosome.copy()\n",
    "        return fitness_value\n",
    "    \n",
    "    \n",
    "    def calc_weight(self, chromosome):\n",
    "        sum_weight = 0\n",
    "        for i in range(self.size):\n",
    "            sum_weight += chromosome[i] * self.w[i]\n",
    "        return sum_weight\n",
    "    \n",
    "    \n",
    "    def create_chromosome(self):\n",
    "        chromosome = []\n",
    "        for i in range(self.size):\n",
    "                chromosome.append(random.randint(0,1))\n",
    "        chromosome = self.validate_chromosome(chromosome)\n",
    "        return chromosome\n",
    "    \n",
    "    \n",
    "    def validate_chromosome(self, chromosome):\n",
    "        while (self.calc_weight(chromosome) > self.W):\n",
    "            idx = random.randint(0,self.size-1)\n",
    "            if chromosome[idx] == 1:\n",
    "                chromosome[idx] = 0\n",
    "        return chromosome\n",
    "    \n",
    "    \n",
    "    def create_first_population(self):\n",
    "        first_population = []\n",
    "        for i in range(self.population_size):\n",
    "            chromosome = self.create_chromosome()\n",
    "            first_population.append(chromosome)\n",
    "            self.fitness_values.append(self.calc_fitness(chromosome))\n",
    "        self.population = first_population\n",
    "        if (self.debug):\n",
    "            print('First population:', first_population)\n",
    "    \n",
    "    \n",
    "    def selection(self):\n",
    "        population_fitness = [(i, self.fitness_values[i]) for i in range(self.population_size)]\n",
    "        population_fitness.sort(key = lambda x: x[1], reverse = True)\n",
    "        distribution = [0]*self.num_groups\n",
    "        sum_fitness = sum(self.fitness_values)\n",
    "        for i in range(self.num_groups):\n",
    "            for j in range(self.population_size // self.num_groups):\n",
    "                distribution[i] += population_fitness[i*(self.population_size // self.num_groups) + j][1]\n",
    "            distribution[i] /= sum_fitness\n",
    "        result = random.choices([i for i in range(self.num_groups)], distribution, k = 2)\n",
    "        result = [result[0] + random.randint(0, self.population_size // self.num_groups), result[1] + random.randint(0, self.population_size // self.num_groups)]\n",
    "        return result\n",
    "    \n",
    "    \n",
    "    def crossover(self, first, second):\n",
    "        point = random.randint(0, self.size - 1)\n",
    "        for i in range(point, self.size):\n",
    "            first[i], second[i] = second[i], first[i]\n",
    "            \n",
    "        return [self.validate_chromosome(first), self.validate_chromosome(second)]\n",
    "    \n",
    "    \n",
    "    def mutation(self, chromosome):\n",
    "        idx = random.randint(0, self.size - 1)\n",
    "        if chromosome[idx] == 1:\n",
    "            chromosome[idx] = 0\n",
    "        else:\n",
    "            chromosome[idx] = 1\n",
    "        return self.validate_chromosome(chromosome)\n",
    "            \n",
    "        \n",
    "    def execute(self, num_popualtions):\n",
    "        self.create_first_population()\n",
    "        for k in range(num_popualtions):\n",
    "            i,j = self.selection()\n",
    "            first_child, second_child = solver.crossover(self.population[i], self.population[j])\n",
    "            \n",
    "            if random.randint(0, 100) < 5:\n",
    "                first_child = solver.mutation(first_child)\n",
    "            if random.randint(0, 100) < 5:\n",
    "                second_child = solver.mutation(second_child)\n",
    "\n",
    "            self.fitness_values[i] = self.calc_fitness(first_child)\n",
    "            self.fitness_values[j] = self.calc_fitness(second_child)\n",
    "            \n",
    "            self.population[i] = first_child\n",
    "            self.population[j] = second_child\n",
    "            \n",
    "            if (self.debug):\n",
    "                print('New population:', self.population)\n",
    "                print('Fitness:', self.fitness_values)"
   ]
  },
  {
   "cell_type": "code",
   "execution_count": 3,
   "metadata": {},
   "outputs": [],
   "source": [
    "def create_Knapsack_data(path, number):\n",
    "    weights = []\n",
    "    values = []\n",
    "    answers = []\n",
    "    W = 0\n",
    "    for filename in sorted(os.listdir(path)):\n",
    "        inp = open(path + '/' + filename).read()\n",
    "        if str(number) in filename:\n",
    "            if \"_c\" in filename:\n",
    "                W = int(inp)\n",
    "            elif \"_p\" in filename:\n",
    "                values = list(map(int, inp.split()))\n",
    "            elif \"_s\" in filename:\n",
    "                answers = list(map(int, inp.split()))\n",
    "            elif \"_w\" in filename:\n",
    "                weights = list(map(int, inp.split()))\n",
    "    return weights, values, answers, W"
   ]
  },
  {
   "cell_type": "markdown",
   "metadata": {},
   "source": [
    "## Results"
   ]
  },
  {
   "cell_type": "code",
   "execution_count": 4,
   "metadata": {},
   "outputs": [
    {
     "name": "stdout",
     "output_type": "stream",
     "text": [
      "Correct value: 309\n",
      "284 [1, 1, 0, 1, 0, 0, 1, 0, 0, 0] [1, 1, 1, 1, 0, 1, 0, 0, 0, 0]\n",
      "Success\n",
      "Correct value: 51\n",
      "51 [0, 1, 1, 1, 0] [0, 1, 1, 1, 0]\n",
      "Success\n",
      "Correct value: 150\n",
      "150 [1, 1, 0, 0, 1, 0] [1, 1, 0, 0, 1, 0]\n",
      "Success\n",
      "Correct value: 107\n",
      "107 [1, 0, 0, 1, 0, 0, 0] [1, 0, 0, 1, 0, 0, 0]\n",
      "Success\n",
      "Correct value: 900\n",
      "900 [1, 0, 1, 1, 1, 0, 1, 1] [1, 0, 1, 1, 1, 0, 1, 1]\n",
      "Success\n",
      "Correct value: 1735\n",
      "1735 [0, 1, 0, 1, 0, 0, 1] [0, 1, 0, 1, 0, 0, 1]\n",
      "Success\n"
     ]
    }
   ],
   "source": [
    "#Knapsack01 test\n",
    "\n",
    "for i in range(1,7):\n",
    "    weights, values, answers , W = create_Knapsack_data('benchmarks',i)\n",
    "    solver = KnapsackGeneticSolver(weights,values, W, 8, 2)\n",
    "    solver.execute(1000)\n",
    "    correct_value = 0\n",
    "    for i in range(len(answers)):\n",
    "        correct_value += answers[i]*values[i]\n",
    "    print(f'Correct value: {correct_value}')\n",
    "        \n",
    "    print(solver.best, solver.best_solution, answers)\n",
    "    assert abs(solver.best - correct_value) <= correct_value / 2\n",
    "    print('Success')"
   ]
  },
  {
   "cell_type": "code",
   "execution_count": 5,
   "metadata": {},
   "outputs": [
    {
     "name": "stdout",
     "output_type": "stream",
     "text": [
      "Correct value: 309\n",
      "Correct value: 51\n",
      "Correct value: 150\n",
      "Correct value: 107\n",
      "Correct value: 900\n",
      "Correct value: 1735\n",
      "Correct value: 1458\n"
     ]
    }
   ],
   "source": [
    "results = {'benchmark_1':[], 'benchmark_2':[],'benchmark_3':[], 'benchmark_4':[],'benchmark_5':[], 'benchmark_6':[],'benchmark_7':[]}\n",
    "\n",
    "for l in range(1, 8):\n",
    "    weights, values, answers , W = create_Knapsack_data('benchmarks',l)\n",
    "\n",
    "    correct_value = 0\n",
    "    for i in range(len(answers)):\n",
    "        correct_value += answers[i]*values[i]\n",
    "    print(f'Correct value: {correct_value}')\n",
    "\n",
    "    best_result = 0\n",
    "    diff = correct_value\n",
    "    \n",
    "    start_time = time.time()\n",
    "    for i in range(100):\n",
    "        solver = KnapsackGeneticSolver(weights,values, W, 8, 2)\n",
    "        solver.execute(1000)\n",
    "        if abs(solver.best - correct_value) <= diff:\n",
    "            diff = abs(solver.best - correct_value)\n",
    "            best_result = solver.best\n",
    "    end_time = time.time()\n",
    "\n",
    "    results[f'benchmark_{l}'].append((round((end_time - start_time)/100, 5), best_result))"
   ]
  },
  {
   "cell_type": "code",
   "execution_count": 6,
   "metadata": {},
   "outputs": [],
   "source": [
    "def display_table_of_results(results):\n",
    "    table_time = [[' ', 'Knapsack Genetic Algorithm, 1000 populations']]\n",
    "    \n",
    "    for benchmark in results:\n",
    "        table_time.append([benchmark] + list(map(lambda x: f'{x[0]} / {x[1]}', results[benchmark])))\n",
    "    \n",
    "    print('Measurments of running time of Knapsack genetic algorithm and results (time, s / answer)')\n",
    "    print(tabulate(table_time, tablefmt='fancy_grid'))"
   ]
  },
  {
   "cell_type": "code",
   "execution_count": 7,
   "metadata": {},
   "outputs": [
    {
     "name": "stdout",
     "output_type": "stream",
     "text": [
      "Measurments of running time of Knapsack genetic algorithm and results (time, s / answer)\n",
      "╒═════════════╤══════════════════════════════════════════════╕\n",
      "│             │ Knapsack Genetic Algorithm, 1000 populations │\n",
      "├─────────────┼──────────────────────────────────────────────┤\n",
      "│ benchmark_1 │ 0.02152 / 309                                │\n",
      "├─────────────┼──────────────────────────────────────────────┤\n",
      "│ benchmark_2 │ 0.01842 / 51                                 │\n",
      "├─────────────┼──────────────────────────────────────────────┤\n",
      "│ benchmark_3 │ 0.01829 / 150                                │\n",
      "├─────────────┼──────────────────────────────────────────────┤\n",
      "│ benchmark_4 │ 0.0217 / 107                                 │\n",
      "├─────────────┼──────────────────────────────────────────────┤\n",
      "│ benchmark_5 │ 0.02035 / 900                                │\n",
      "├─────────────┼──────────────────────────────────────────────┤\n",
      "│ benchmark_6 │ 0.02551 / 1735                               │\n",
      "├─────────────┼──────────────────────────────────────────────┤\n",
      "│ benchmark_7 │ 0.02608 / 1456                               │\n",
      "╘═════════════╧══════════════════════════════════════════════╛\n"
     ]
    }
   ],
   "source": [
    "display_table_of_results(results)"
   ]
  },
  {
   "cell_type": "markdown",
   "metadata": {},
   "source": [
    "## Travelling salesman problem"
   ]
  },
  {
   "cell_type": "code",
   "execution_count": 8,
   "metadata": {},
   "outputs": [],
   "source": [
    "def euc2d(x1,x2,y1,y2):\n",
    "    return round(((x1-y1)**2 + (x2-y2)**2)**0.5,3)\n",
    "\n",
    "\n",
    "class TSPGraph():\n",
    "    def __init__(self, dist_matrix = None, coord_list = None):\n",
    "        self.dist_matrix = dist_matrix\n",
    "        self.coord_list = coord_list\n",
    "        \n",
    "        if not self.dist_matrix:\n",
    "            self.create_dist_matrix()\n",
    "    \n",
    "    \n",
    "    def create_dist_matrix(self):\n",
    "        self.dist_matrix = []\n",
    "        n = len(self.coord_list)\n",
    "        for i in range(n):\n",
    "            self.dist_matrix.append([0]*n)\n",
    "        \n",
    "        for i in range(n):\n",
    "            for j in range(n):\n",
    "                if i != j:\n",
    "                    self.dist_matrix[i][j] = euc2d(self.coord_list[i][1],self.coord_list[i][2],self.coord_list[j][1],self.coord_list[j][2])"
   ]
  },
  {
   "cell_type": "code",
   "execution_count": 9,
   "metadata": {},
   "outputs": [],
   "source": [
    "class TSPSolver():\n",
    "    def __init__(self, dist_matrix, population_size, debug=False):\n",
    "        self.dist = dist_matrix\n",
    "        self.size = len(self.dist)\n",
    "        self.population_size = population_size\n",
    "        self.nodes = [i for i in range(self.size)]\n",
    "        self.fitness_values = []\n",
    "        self.population = []\n",
    "        self.best = 0\n",
    "        self.best_solution = []\n",
    "        self.debug = debug\n",
    "    \n",
    "    def calc_fitness(self, chromosome):\n",
    "        #print(chromosome)\n",
    "        fitness_value = 0\n",
    "        for i in range(self.size - 1):\n",
    "            fitness_value += self.dist[i][i+1]\n",
    "            \n",
    "        fitness_value = 1 / (fitness_value + self.dist[chromosome[0]][chromosome[-1]])\n",
    "        \n",
    "        if fitness_value >= self.best:\n",
    "            self.best = fitness_value\n",
    "            self.best_solution = chromosome.copy()\n",
    "            \n",
    "        return fitness_value\n",
    "    \n",
    "    \n",
    "    def create_chromosome(self):\n",
    "        chromosome = self.nodes.copy()\n",
    "        random.shuffle(chromosome)\n",
    "        while chromosome in self.population:\n",
    "            random.shuffle(chromosome)\n",
    "        return chromosome\n",
    "    \n",
    "    \n",
    "    def create_first_population(self):\n",
    "        for i in range(self.population_size):\n",
    "            chromosome = self.create_chromosome()\n",
    "            self.population.append(chromosome)\n",
    "            self.fitness_values.append(self.calc_fitness(chromosome))\n",
    "    \n",
    "    \n",
    "    def roulette_wheel_selection(self):\n",
    "        sum_fitness = sum(self.fitness_values)\n",
    "        distribution = list(map(lambda x: x / sum_fitness,self.fitness_values))\n",
    "        #print(distribution)\n",
    "        result = random.choices([i for i in range(self.population_size)], distribution, k = 2)\n",
    "        return result\n",
    "    \n",
    "\n",
    "    def crossover(self, first_parent, second_parent):\n",
    "        first_child = [-1] * self.size\n",
    "        second_child = [-1] * self.size\n",
    "        \n",
    "        cross_point1 = random.randint(0, self.size - 2)\n",
    "        cross_point2 = random.randint(cross_point1 + 1, self.size - 1)\n",
    "        \n",
    "        first_child[cross_point1:cross_point2] = first_parent[cross_point1:cross_point2]\n",
    "        second_child[cross_point1:cross_point2] = second_parent[cross_point1:cross_point2]\n",
    "        \n",
    "        first_order = []\n",
    "        second_order = []\n",
    "        \n",
    "        for i in range(self.size):\n",
    "            first_order.append(second_parent[(cross_point2 + i) % self.size])\n",
    "            second_order.append(first_parent[(cross_point2 + i) % self.size])\n",
    "            \n",
    "        i = 0\n",
    "        while i < len(first_order):\n",
    "            if first_order[i] in first_child:\n",
    "                first_order.pop(i)\n",
    "            else:\n",
    "                i += 1\n",
    "        \n",
    "        i = 0\n",
    "        while i < len(second_order):\n",
    "            if second_order[i] in second_child:\n",
    "                second_order.pop(i)\n",
    "            else:\n",
    "                i += 1\n",
    "        \n",
    "        for i in range(len(first_order)):\n",
    "            first_child[(cross_point2 + i) % self.size] = first_order[i]\n",
    "        \n",
    "        for i in range(len(second_order)):\n",
    "            second_child[(cross_point2 + i) % self.size] = second_order[i]\n",
    "\n",
    "        return first_child, second_child\n",
    "        \n",
    "        \n",
    "    def mutation(self, parent, gap):\n",
    "        child = parent.copy()\n",
    "        j = random.randint(0, self.size - gap - 1)\n",
    "        child[j:j + gap] = list(reversed(child[j:j + gap]))\n",
    "        return child\n",
    "    \n",
    "    \n",
    "    def execute(self, num_popualtions):\n",
    "        self.create_first_population()\n",
    "        for k in range(num_popualtions):\n",
    "            i,j = self.roulette_wheel_selection()\n",
    "            first_child, second_child = self.crossover(self.population[i], self.population[j])\n",
    "\n",
    "            if random.randint(0, 100) == 1:\n",
    "                first_child = self.mutation(first_child,5)\n",
    "            if random.randint(0, 100) == 1:\n",
    "                second_child = self.mutation(second_child,5)\n",
    "\n",
    "            self.fitness_values[i] = self.calc_fitness(first_child)\n",
    "            self.fitness_values[j] = self.calc_fitness(second_child)\n",
    "\n",
    "            self.population[i] = first_child\n",
    "            self.population[j] = second_child\n",
    "            if self.debug:\n",
    "                print('New population:', self.population)\n",
    "                print('Fitness:', self.fitness_values)"
   ]
  },
  {
   "cell_type": "code",
   "execution_count": 10,
   "metadata": {},
   "outputs": [],
   "source": [
    "def create_TSP_data(path, number):\n",
    "    benchmarks = os.listdir(path)\n",
    "    f = open(path + '/' + benchmarks[number])\n",
    "    text = f.read()\n",
    "    f.close()\n",
    "    if 'NODE_COORD_SECTION' in text:\n",
    "        coord_string = text[text.index('NODE_COORD_SECTION'):text.index('EOF'):]\n",
    "        coord_arr = list(map(lambda s: s.replace('  ', ' ').strip().split(' '), coord_string.split('\\n')[1:-1]))\n",
    "        if '.' in coord_arr[0][1]:\n",
    "            isInt = False\n",
    "        else:\n",
    "            isInt = True\n",
    "        for i in range(len(coord_arr)):\n",
    "            if '' in coord_arr[i]:\n",
    "                coord_arr[i].remove('')\n",
    "            if isInt:\n",
    "                coord_arr[i] = list(map(int, coord_arr[i]))\n",
    "            else:\n",
    "                coord_arr[i] = list(map(float, coord_arr[i]))\n",
    "        return coord_arr\n",
    "    else:\n",
    "        if 'DISPLAY_DATA_SECTION' in text:\n",
    "            weight_matrix_string = text[text.index('EDGE_WEIGHT_SECTION'):text.index('DISPLAY_DATA_SECTION')]\n",
    "        else:\n",
    "            weight_matrix_string = text[text.index('EDGE_WEIGHT_SECTION'):text.index('EOF')]\n",
    "        weight_matrix = list(map(lambda s:  s.replace('  ', ' ').strip().split(' '), weight_matrix_string.split('\\n')[1:-1]))\n",
    "        for i in range(len(weight_matrix)):\n",
    "            if '' in weight_matrix[i]:\n",
    "                weight_matrix[i].remove('')\n",
    "            weight_matrix[i] = list(map(int, weight_matrix[i]))\n",
    "        return weight_matrix"
   ]
  },
  {
   "cell_type": "markdown",
   "metadata": {},
   "source": [
    "## Results"
   ]
  },
  {
   "cell_type": "code",
   "execution_count": 11,
   "metadata": {},
   "outputs": [],
   "source": [
    "benchmarks = os.listdir('lab3_data')\n",
    "results = {'a280.tsp': [], 'att48.tsp': [], 'bays29.tsp': [], 'ch150.tsp': [], 'fl417.tsp': []}"
   ]
  },
  {
   "cell_type": "code",
   "execution_count": 12,
   "metadata": {},
   "outputs": [
    {
     "name": "stdout",
     "output_type": "stream",
     "text": [
      "2808.731999999999 [46, 242, 43, 68, 87, 190, 78, 204, 7, 147, 203, 100, 148, 107, 79, 264, 20, 215, 219, 81, 16, 44, 63, 123, 89, 108, 52, 111, 212, 142, 146, 29, 159, 223, 61, 33, 216, 267, 197, 217, 247, 179, 84, 42, 71, 59, 37, 95, 209, 125, 275, 236, 115, 192, 222, 180, 181, 188, 256, 276, 6, 48, 98, 55, 128, 65, 141, 182, 208, 244, 261, 220, 50, 72, 279, 228, 243, 213, 167, 24, 26, 90, 218, 269, 51, 114, 202, 5, 186, 4, 149, 102, 268, 105, 32, 150, 199, 214, 227, 62, 246, 122, 238, 1, 13, 250, 82, 92, 54, 36, 258, 172, 252, 2, 57, 229, 155, 130, 76, 157, 41, 235, 196, 224, 38, 163, 138, 14, 194, 17, 131, 119, 94, 144, 185, 23, 25, 135, 27, 277, 278, 266, 126, 230, 124, 11, 225, 187, 173, 140, 129, 113, 120, 117, 255, 8, 253, 118, 152, 272, 66, 112, 21, 271, 171, 96, 162, 176, 15, 145, 184, 39, 109, 116, 189, 35, 10, 234, 143, 263, 134, 239, 85, 77, 175, 34, 245, 0, 259, 164, 103, 265, 60, 166, 154, 233, 56, 207, 231, 200, 80, 226, 88, 110, 31, 241, 191, 183, 151, 86, 273, 47, 270, 274, 257, 22, 248, 211, 153, 19, 12, 9, 195, 262, 18, 165, 121, 104, 160, 74, 28, 133, 40, 83, 174, 168, 73, 158, 49, 205, 169, 139, 240, 237, 91, 70, 69, 206, 132, 161, 45, 101, 210, 156, 97, 30, 170, 260, 198, 127, 93, 232, 58, 249, 3, 64, 137, 251, 254, 75, 177, 99, 178, 201, 193, 221, 67, 106, 136, 53]\n"
     ]
    }
   ],
   "source": [
    "data = create_TSP_data('lab3_data', 0)\n",
    "g = TSPGraph(coord_list=data)\n",
    "\n",
    "start_time = time.time()\n",
    "for i in range(10):\n",
    "    s = TSPSolver(g.dist_matrix, 8)\n",
    "    s.execute(1000)\n",
    "end_time = time.time()\n",
    "\n",
    "print(1 / s.best, s.best_solution)\n",
    "results['a280.tsp'].append((round((end_time - start_time)/10, 5), round(1 / s.best, 3)))"
   ]
  },
  {
   "cell_type": "code",
   "execution_count": 13,
   "metadata": {},
   "outputs": [
    {
     "name": "stdout",
     "output_type": "stream",
     "text": [
      "153918.63700000002 [18, 30, 41, 33, 20, 40, 5, 34, 21, 47, 44, 6, 27, 39, 4, 29, 9, 22, 12, 11, 43, 13, 46, 14, 8, 2, 3, 35, 17, 37, 45, 1, 32, 42, 0, 19, 24, 15, 10, 26, 7, 28, 38, 16, 23, 31, 25, 36]\n"
     ]
    }
   ],
   "source": [
    "data = create_TSP_data('lab3_data', 1)\n",
    "g = TSPGraph(coord_list=data)\n",
    "\n",
    "start_time = time.time()\n",
    "for i in range(10):\n",
    "    s = TSPSolver(g.dist_matrix, 8)\n",
    "    s.execute(1000)\n",
    "end_time = time.time()\n",
    "\n",
    "print(1 / s.best, s.best_solution)\n",
    "results['att48.tsp'].append((round((end_time - start_time)/10, 5), round(1 / s.best, 3)))"
   ]
  },
  {
   "cell_type": "code",
   "execution_count": 14,
   "metadata": {},
   "outputs": [
    {
     "name": "stdout",
     "output_type": "stream",
     "text": [
      "5620.0 [17, 7, 20, 0, 22, 3, 8, 24, 27, 12, 4, 11, 6, 21, 25, 1, 28, 15, 23, 2, 26, 19, 14, 10, 16, 5, 9, 18, 13]\n"
     ]
    }
   ],
   "source": [
    "data = create_TSP_data('lab3_data', 2)\n",
    "g = TSPGraph(dist_matrix=data)\n",
    "\n",
    "start_time = time.time()\n",
    "for i in range(10):\n",
    "    s = TSPSolver(g.dist_matrix, 8)\n",
    "    s.execute(1000)\n",
    "end_time = time.time()\n",
    "\n",
    "print(1 / s.best, s.best_solution)\n",
    "results['bays29.tsp'].append((round((end_time - start_time)/10, 5), round(1 / s.best, 3)))"
   ]
  },
  {
   "cell_type": "code",
   "execution_count": 15,
   "metadata": {},
   "outputs": [
    {
     "name": "stdout",
     "output_type": "stream",
     "text": [
      "52445.54299999998 [13, 62, 68, 97, 116, 49, 100, 128, 0, 41, 140, 47, 114, 26, 145, 130, 91, 10, 101, 84, 134, 38, 139, 5, 87, 3, 124, 86, 81, 40, 99, 125, 74, 48, 104, 111, 148, 146, 58, 118, 138, 29, 66, 18, 93, 57, 23, 8, 32, 107, 89, 95, 39, 85, 60, 108, 106, 65, 27, 90, 82, 11, 136, 73, 51, 33, 80, 115, 35, 102, 120, 133, 96, 7, 113, 112, 142, 6, 4, 147, 110, 126, 105, 42, 54, 61, 132, 83, 149, 123, 119, 144, 25, 21, 12, 94, 76, 15, 127, 131, 34, 64, 53, 28, 63, 109, 17, 121, 129, 122, 72, 75, 16, 46, 31, 36, 52, 77, 103, 92, 30, 9, 135, 98, 24, 20, 56, 141, 55, 78, 69, 43, 1, 37, 45, 44, 14, 143, 50, 71, 117, 137, 19, 2, 67, 22, 88, 70, 59, 79]\n"
     ]
    }
   ],
   "source": [
    "data = create_TSP_data('lab3_data', 3)\n",
    "g = TSPGraph(coord_list=data)\n",
    "\n",
    "start_time = time.time()\n",
    "for i in range(10):\n",
    "    s = TSPSolver(g.dist_matrix, 8)\n",
    "    s.execute(1000)\n",
    "end_time = time.time()\n",
    "\n",
    "print(1 / s.best, s.best_solution)\n",
    "results['ch150.tsp'].append((round((end_time - start_time)/10, 5), round(1 / s.best, 3)))"
   ]
  },
  {
   "cell_type": "code",
   "execution_count": 16,
   "metadata": {},
   "outputs": [
    {
     "name": "stdout",
     "output_type": "stream",
     "text": [
      "53559.11800000004 [128, 353, 344, 360, 322, 272, 208, 265, 60, 237, 305, 218, 82, 182, 232, 327, 300, 242, 378, 164, 33, 68, 349, 192, 351, 350, 400, 329, 66, 165, 358, 171, 271, 368, 336, 123, 20, 205, 132, 183, 343, 330, 202, 248, 101, 335, 273, 256, 352, 90, 212, 405, 411, 414, 185, 366, 224, 52, 47, 238, 298, 169, 347, 239, 96, 293, 119, 269, 397, 261, 31, 107, 279, 210, 278, 289, 380, 24, 220, 216, 337, 78, 72, 94, 354, 73, 281, 3, 391, 53, 241, 258, 67, 35, 186, 156, 118, 311, 74, 275, 105, 2, 126, 221, 304, 1, 385, 115, 249, 63, 203, 348, 284, 396, 184, 179, 372, 34, 266, 319, 102, 325, 92, 135, 374, 178, 341, 285, 113, 133, 58, 207, 91, 124, 407, 158, 95, 254, 170, 365, 117, 276, 112, 198, 136, 392, 125, 324, 231, 331, 404, 302, 277, 219, 174, 389, 383, 99, 71, 147, 176, 381, 88, 359, 22, 27, 373, 146, 388, 41, 306, 159, 253, 8, 297, 151, 106, 141, 234, 188, 69, 235, 80, 214, 0, 342, 29, 65, 225, 103, 131, 387, 255, 6, 70, 361, 142, 161, 318, 377, 215, 247, 175, 15, 321, 199, 49, 148, 260, 189, 217, 121, 280, 157, 162, 340, 57, 345, 160, 44, 76, 228, 363, 195, 230, 283, 403, 376, 314, 227, 140, 100, 172, 139, 116, 267, 193, 334, 45, 145, 251, 201, 87, 274, 390, 287, 79, 21, 339, 262, 323, 243, 127, 308, 153, 98, 143, 64, 56, 264, 398, 270, 223, 167, 303, 93, 226, 236, 369, 317, 290, 83, 191, 10, 240, 138, 332, 315, 413, 211, 194, 84, 180, 292, 85, 382, 120, 129, 7, 252, 286, 48, 402, 28, 137, 97, 61, 250, 309, 416, 114, 409, 42, 81, 11, 371, 166, 296, 43, 357, 406, 104, 386, 5, 364, 328, 412, 233, 316, 367, 55, 89, 246, 356, 310, 375, 313, 155, 257, 111, 196, 168, 39, 122, 299, 14, 206, 51, 213, 370, 197, 18, 54, 229, 59, 17, 19, 244, 154, 144, 12, 181, 46, 37, 36, 415, 333, 4, 245, 190, 294, 394, 30, 291, 355, 26, 312, 408, 32, 401, 200, 384, 77, 62, 134, 13, 152, 222, 288, 109, 110, 16, 163, 75, 346, 399, 38, 130, 393, 338, 326, 9, 362, 259, 209, 177, 187, 282, 301, 23, 379, 204, 395, 149, 295, 86, 268, 173, 307, 40, 320, 108, 410, 25, 263, 50, 150]\n"
     ]
    }
   ],
   "source": [
    "data = create_TSP_data('lab3_data', 4)\n",
    "g = TSPGraph(coord_list=data)\n",
    "\n",
    "start_time = time.time()\n",
    "for i in range(10):\n",
    "    s = TSPSolver(g.dist_matrix, 8)\n",
    "    s.execute(1000)\n",
    "end_time = time.time()\n",
    "\n",
    "print(1 / s.best, s.best_solution)\n",
    "results['fl417.tsp'].append((round((end_time - start_time)/10, 5), round(1 / s.best, 3)))"
   ]
  },
  {
   "cell_type": "code",
   "execution_count": 17,
   "metadata": {},
   "outputs": [
    {
     "name": "stdout",
     "output_type": "stream",
     "text": [
      "Measurments of running time of TSP genetic algorithm and results (time, s / answer)\n",
      "╒════════════╤═════════════════════════════════════════╕\n",
      "│            │ TSP genetic algorithm, 1000 populations │\n",
      "├────────────┼─────────────────────────────────────────┤\n",
      "│ a280.tsp   │ 1.64083 / 2808.732                      │\n",
      "├────────────┼─────────────────────────────────────────┤\n",
      "│ att48.tsp  │ 0.10386 / 153918.637                    │\n",
      "├────────────┼─────────────────────────────────────────┤\n",
      "│ bays29.tsp │ 0.0541 / 5620.0                         │\n",
      "├────────────┼─────────────────────────────────────────┤\n",
      "│ ch150.tsp  │ 0.59153 / 52445.543                     │\n",
      "├────────────┼─────────────────────────────────────────┤\n",
      "│ fl417.tsp  │ 3.53715 / 53559.118                     │\n",
      "╘════════════╧═════════════════════════════════════════╛\n"
     ]
    }
   ],
   "source": [
    "table_time = [[' ', 'TSP genetic algorithm, 1000 populations']]\n",
    "    \n",
    "for benchmark in results:\n",
    "    table_time.append([benchmark] + list(map(lambda x: f'{x[0]} / {x[1]}', results[benchmark])))\n",
    "\n",
    "print('Measurments of running time of TSP genetic algorithm and results (time, s / answer)')\n",
    "print(tabulate(table_time, tablefmt='fancy_grid'))"
   ]
  },
  {
   "cell_type": "code",
   "execution_count": null,
   "metadata": {},
   "outputs": [],
   "source": []
  }
 ],
 "metadata": {
  "kernelspec": {
   "display_name": "Python 3",
   "language": "python",
   "name": "python3"
  },
  "language_info": {
   "codemirror_mode": {
    "name": "ipython",
    "version": 3
   },
   "file_extension": ".py",
   "mimetype": "text/x-python",
   "name": "python",
   "nbconvert_exporter": "python",
   "pygments_lexer": "ipython3",
   "version": "3.10.1"
  }
 },
 "nbformat": 4,
 "nbformat_minor": 4
}

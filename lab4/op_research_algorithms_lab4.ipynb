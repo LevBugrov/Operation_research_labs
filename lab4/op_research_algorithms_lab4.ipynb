{
 "cells": [
  {
   "cell_type": "markdown",
   "metadata": {},
   "source": [
    "# Лабораторная работа 4. Алгоритмы локального поиска."
   ]
  },
  {
   "cell_type": "markdown",
   "metadata": {},
   "source": [
    "### Выполнили: Баринов Даниил, Бугров Лев, Голованов Денис"
   ]
  },
  {
   "cell_type": "code",
   "execution_count": 1,
   "metadata": {},
   "outputs": [],
   "source": [
    "import os\n",
    "from tabulate import tabulate\n",
    "import random\n",
    "import numpy as np\n",
    "import time"
   ]
  },
  {
   "cell_type": "markdown",
   "metadata": {},
   "source": [
    "## Local search. 2 opt first-improvement + don't look bits"
   ]
  },
  {
   "cell_type": "code",
   "execution_count": 2,
   "metadata": {},
   "outputs": [],
   "source": [
    "def cost(solution, dist, flow, size):\n",
    "    cost_value = 0\n",
    "    \n",
    "    for i in range(size):\n",
    "        for j in range(0, i):\n",
    "                cost_value += dist[i][j] * flow[solution[i]][solution[j]]\n",
    "    return cost_value*2\n",
    "\n",
    "def random_heuristic(solution):\n",
    "    random.shuffle(solution)\n",
    "    \n",
    "\n",
    "def swap(arr, i, j):\n",
    "    arr[i],arr[j] = arr[j],arr[i]"
   ]
  },
  {
   "cell_type": "code",
   "execution_count": 3,
   "metadata": {},
   "outputs": [],
   "source": [
    "def local_search_first_improvement(solution, dist, flow, size):\n",
    "    global dont_look\n",
    "    global solutions\n",
    "    global best_cost\n",
    "    global best_solution\n",
    "\n",
    "    for i in range(size):\n",
    "        for j in range(size):\n",
    "            if j == i or dont_look[solution[j]] == 1 or dont_look[solution[i]] == 1:\n",
    "                continue\n",
    "            swap(solution, i, j)\n",
    "            curr_cost = cost(solution, dist, flow, size)\n",
    "            #print('Current solution:', curr_cost, solution)\n",
    "            if best_cost > curr_cost:\n",
    "                best_cost = curr_cost\n",
    "                best_solution = solution\n",
    "                solutions.append(solution.copy())\n",
    "                return\n",
    "            swap(solution, i, j)\n",
    "        dont_look[solution[i]] = 1\n",
    "        #print('Dont look:', dont_look)\n",
    "        \n",
    "\n",
    "def run_local_search_first_improvement(dist, flow, size):\n",
    "    global dont_look\n",
    "    global solutions\n",
    "    global best_cost\n",
    "    global best_solution\n",
    "    \n",
    "    dont_look = [0]*size\n",
    "    solutions = []\n",
    "    solution = [i for i in range(size)]\n",
    "    random_heuristic(solution)\n",
    "    best_solution = solution.copy()\n",
    "    best_cost = cost(solution, dist, flow, size)\n",
    "    #print('Initial solution:', best_cost, solution)\n",
    "    solutions.append(solution)\n",
    "    while len(solutions) > 0:\n",
    "        local_search_first_improvement(solutions.pop(0), dist,flow,size)\n",
    "    return best_cost, best_solution"
   ]
  },
  {
   "cell_type": "markdown",
   "metadata": {},
   "source": [
    "## Iterated local search"
   ]
  },
  {
   "cell_type": "code",
   "execution_count": 4,
   "metadata": {},
   "outputs": [],
   "source": [
    "def perturbation(solution):\n",
    "    solution = list(solution)\n",
    "    #print(solution)\n",
    "    a = random.randint(0, len(solution))\n",
    "    b = random.randint(0, len(solution))\n",
    "    \n",
    "    if a > b:\n",
    "        a,b = b,a\n",
    "        \n",
    "    return list(solution[:a] + list(reversed(solution[a:b])) + solution[b::])"
   ]
  },
  {
   "cell_type": "code",
   "execution_count": 5,
   "metadata": {},
   "outputs": [],
   "source": [
    "def common_local_search(solution, dist, flow, size):\n",
    "    best_cost = cost(solution, dist, flow, size)\n",
    "    best_solution = solution.copy()\n",
    "    for i in range(size):\n",
    "        for j in range(size):\n",
    "            if j == i:\n",
    "                continue\n",
    "            swap(solution, i, j)\n",
    "            curr_cost = cost(solution, dist, flow, size)\n",
    "            if best_cost > curr_cost:\n",
    "                solution_is_better = True\n",
    "                best_cost = curr_cost\n",
    "                best_solution = solution.copy()\n",
    "                return best_cost, best_solution\n",
    "            swap(solution, i, j)\n",
    "    return best_cost, best_solution"
   ]
  },
  {
   "cell_type": "code",
   "execution_count": 6,
   "metadata": {},
   "outputs": [],
   "source": [
    "def iterated_local_search(dist, flow, size, n_iter, n_repeats):\n",
    "    solution = [i for i in range(size)]\n",
    "    random_heuristic(solution)\n",
    "    cost_value, solution = common_local_search(solution, dist, flow, size)\n",
    "    best_cost = cost_value\n",
    "    best_solution = solution.copy()\n",
    "    for i in range(n_iter):\n",
    "        solution = perturbation(solution)\n",
    "        for j in range(n_repeats):\n",
    "            cost_value, solution = common_local_search(solution, dist, flow, size)\n",
    "        if best_cost > cost_value:\n",
    "            best_cost = cost_value\n",
    "            best_solution = solution.copy()\n",
    "    return best_cost, best_solution"
   ]
  },
  {
   "cell_type": "markdown",
   "metadata": {},
   "source": [
    "## Проверки на бенчмарках"
   ]
  },
  {
   "cell_type": "code",
   "execution_count": 7,
   "metadata": {},
   "outputs": [],
   "source": [
    "base_dir = 'lab4_data'\n",
    "benchmarks = os.listdir(base_dir)\n",
    "data = dict.fromkeys(benchmarks)\n",
    "\n",
    "for filename in benchmarks:\n",
    "    with open(base_dir + '/' + filename) as f:\n",
    "        lines = f.read().splitlines()\n",
    "        N = int(lines[0].strip())\n",
    "        D = []\n",
    "        F = []\n",
    "\n",
    "        for i in range(1, N + 1):\n",
    "            D.append(list(map(int, lines[i].replace('  ', ' ').strip().split(' '))))\n",
    "\n",
    "        for i in range(N + 2, 2*N + 2):\n",
    "            F.append(list(map(int, lines[i].replace('  ', ' ').strip().split(' '))))\n",
    "\n",
    "        data[filename] = {'size': N, 'dist':D, 'flow':F}"
   ]
  },
  {
   "cell_type": "code",
   "execution_count": 8,
   "metadata": {},
   "outputs": [
    {
     "name": "stdout",
     "output_type": "stream",
     "text": [
      "Benchmark: tai100a\n",
      "Cost value: 23028132 . Time: 14.245 . Solution [75, 97, 4, 24, 98, 57, 10, 64, 90, 19, 77, 39, 95, 74, 6, 22, 93, 9, 63, 21, 61, 46, 11, 58, 69, 76, 15, 53, 81, 33, 17, 48, 51, 78, 31, 88, 3, 86, 7, 54, 92, 70, 50, 40, 23, 99, 2, 41, 34, 44, 85, 52, 55, 29, 20, 27, 62, 13, 30, 43, 87, 91, 18, 66, 94, 80, 84, 96, 60, 42, 68, 38, 0, 73, 32, 82, 1, 71, 59, 36, 89, 25, 35, 56, 37, 49, 12, 83, 16, 45, 26, 28, 5, 8, 65, 79, 47, 67, 14, 72]\n",
      "Benchmark: tai20a\n",
      "Cost value: 719520 . Time: 4.169 . Solution [0, 8, 12, 15, 9, 16, 18, 13, 10, 7, 2, 1, 5, 19, 3, 6, 11, 4, 14, 17]\n",
      "Benchmark: tai40a\n",
      "Cost value: 3292472 . Time: 3.897 . Solution [10, 5, 36, 3, 8, 27, 1, 2, 26, 0, 4, 16, 17, 9, 29, 7, 13, 33, 21, 31, 22, 24, 35, 14, 30, 39, 18, 32, 28, 12, 38, 25, 23, 20, 37, 11, 34, 19, 6, 15]\n",
      "Benchmark: tai60a\n",
      "Cost value: 7749702 . Time: 4.591 . Solution [21, 28, 7, 43, 24, 14, 30, 31, 13, 22, 33, 41, 9, 11, 44, 40, 1, 42, 26, 39, 47, 50, 58, 53, 12, 46, 10, 51, 49, 5, 34, 48, 25, 55, 3, 59, 54, 19, 56, 27, 8, 36, 2, 35, 38, 52, 0, 29, 20, 17, 32, 45, 37, 4, 15, 6, 57, 16, 23, 18]\n",
      "Benchmark: tai80a\n",
      "Cost value: 14711742 . Time: 10.587 . Solution [41, 22, 65, 18, 32, 70, 8, 19, 4, 56, 24, 7, 72, 47, 52, 49, 45, 13, 29, 31, 43, 1, 17, 6, 60, 35, 59, 12, 64, 11, 63, 42, 21, 20, 61, 0, 16, 51, 26, 34, 23, 79, 67, 15, 40, 55, 75, 37, 69, 9, 39, 62, 30, 73, 48, 50, 5, 54, 74, 33, 77, 53, 10, 3, 66, 78, 57, 28, 71, 58, 68, 38, 76, 36, 44, 46, 25, 2, 27, 14]\n"
     ]
    }
   ],
   "source": [
    "it_ls_results = dict.fromkeys(list(data.keys()))\n",
    "for filename in data:\n",
    "    print('Benchmark:', filename)\n",
    "    dist = data[filename]['dist']\n",
    "    flow = data[filename]['flow']\n",
    "    size = data[filename]['size']\n",
    "    best_res = [2**64, []]\n",
    "    start_time = time.time()\n",
    "    for i in range(10):\n",
    "        res =  iterated_local_search(dist, flow, size, 100, 15)\n",
    "        if res[0] < best_res[0]:\n",
    "            best_res[0] = res[0]\n",
    "            best_res[1] = res[1]\n",
    "    end_time = time.time()\n",
    "    it_ls_results[filename] = best_res + [round((end_time - start_time) / 10, 3)]\n",
    "    print('Cost value:', it_ls_results[filename][0], '. Time:', it_ls_results[filename][2],'. Solution', it_ls_results[filename][1])"
   ]
  },
  {
   "cell_type": "code",
   "execution_count": 9,
   "metadata": {},
   "outputs": [
    {
     "name": "stdout",
     "output_type": "stream",
     "text": [
      "Benchmark: tai100a\n",
      "Cost value: 21939418 . Time: 7.45 . Solution [35, 48, 17, 4, 55, 52, 88, 33, 51, 40, 84, 0, 16, 41, 80, 89, 3, 56, 44, 14, 63, 97, 34, 53, 36, 77, 38, 39, 67, 61, 42, 28, 90, 22, 86, 29, 58, 47, 13, 78, 7, 11, 19, 50, 70, 6, 43, 64, 68, 15, 60, 45, 26, 87, 37, 46, 5, 93, 76, 10, 23, 32, 27, 21, 54, 74, 73, 57, 69, 62, 1, 99, 12, 98, 20, 95, 59, 65, 91, 75, 30, 49, 71, 31, 81, 85, 79, 96, 83, 9, 82, 72, 24, 25, 94, 8, 66, 2, 18, 92]\n",
      "Benchmark: tai20a\n",
      "Cost value: 755438 . Time: 0.013 . Solution [15, 6, 12, 5, 19, 11, 3, 1, 0, 18, 7, 17, 8, 16, 2, 9, 14, 10, 4, 13]\n",
      "Benchmark: tai40a\n",
      "Cost value: 3324410 . Time: 0.132 . Solution [19, 33, 35, 0, 38, 15, 14, 9, 17, 31, 8, 13, 20, 24, 4, 5, 1, 11, 23, 34, 6, 28, 10, 22, 37, 16, 3, 25, 39, 2, 12, 29, 18, 27, 30, 26, 21, 32, 36, 7]\n",
      "Benchmark: tai60a\n",
      "Cost value: 7599984 . Time: 0.727 . Solution [29, 37, 52, 44, 19, 18, 50, 26, 30, 32, 1, 10, 16, 13, 12, 55, 56, 25, 15, 34, 22, 6, 5, 51, 28, 46, 24, 53, 3, 11, 23, 48, 40, 35, 9, 45, 36, 58, 59, 31, 4, 33, 47, 8, 54, 2, 21, 42, 14, 7, 17, 57, 49, 0, 38, 20, 27, 39, 41, 43]\n",
      "Benchmark: tai80a\n",
      "Cost value: 14108460 . Time: 2.628 . Solution [28, 32, 27, 78, 17, 50, 26, 47, 44, 56, 62, 23, 10, 76, 57, 59, 70, 73, 11, 40, 5, 42, 53, 37, 79, 64, 67, 72, 7, 60, 8, 39, 77, 22, 21, 18, 49, 24, 19, 55, 30, 58, 31, 34, 43, 9, 4, 0, 46, 48, 6, 41, 2, 12, 75, 63, 54, 1, 14, 33, 35, 3, 74, 15, 51, 16, 45, 25, 52, 20, 66, 13, 68, 38, 71, 29, 69, 61, 36, 65]\n"
     ]
    }
   ],
   "source": [
    "ls_results = dict.fromkeys(list(data.keys()))\n",
    "for filename in data:\n",
    "    print('Benchmark:', filename)\n",
    "    dist = data[filename]['dist']\n",
    "    flow = data[filename]['flow']\n",
    "    size = data[filename]['size']\n",
    "    best_res = [2**64, []]\n",
    "    start_time = time.time()\n",
    "    for i in range(10):\n",
    "        res =  run_local_search_first_improvement(dist,flow,size)\n",
    "        if res[0] < best_res[0]:\n",
    "            best_res[0] = res[0]\n",
    "            best_res[1] = res[1]\n",
    "    end_time = time.time()\n",
    "    ls_results[filename] = best_res + [round((end_time - start_time) / 10, 3)]\n",
    "    print('Cost value:', ls_results[filename][0], '. Time:', ls_results[filename][2],'. Solution', ls_results[filename][1])"
   ]
  },
  {
   "cell_type": "code",
   "execution_count": 10,
   "metadata": {},
   "outputs": [
    {
     "name": "stdout",
     "output_type": "stream",
     "text": [
      "Лучший результат и среднее время за 10 запусков алгоритмов.\n",
      "╒═════════╤═══════════════════╤═══════════════════════╕\n",
      "│         │ Local search      │ Iterated local search │\n",
      "├─────────┼───────────────────┼───────────────────────┤\n",
      "│ tai100a │ 21939418 / 7.45s  │ 23028132 / 14.245s    │\n",
      "├─────────┼───────────────────┼───────────────────────┤\n",
      "│ tai20a  │ 755438 / 0.013s   │ 719520 / 4.169s       │\n",
      "├─────────┼───────────────────┼───────────────────────┤\n",
      "│ tai40a  │ 3324410 / 0.132s  │ 3292472 / 3.897s      │\n",
      "├─────────┼───────────────────┼───────────────────────┤\n",
      "│ tai60a  │ 7599984 / 0.727s  │ 7749702 / 4.591s      │\n",
      "├─────────┼───────────────────┼───────────────────────┤\n",
      "│ tai80a  │ 14108460 / 2.628s │ 14711742 / 10.587s    │\n",
      "╘═════════╧═══════════════════╧═══════════════════════╛\n"
     ]
    }
   ],
   "source": [
    "table_time = [[' ', 'Local search', 'Iterated local search']]\n",
    "    \n",
    "for benchmark in ls_results:\n",
    "    table_time.append([benchmark,f'{ls_results[benchmark][0]} / {ls_results[benchmark][2]}s',f'{it_ls_results[benchmark][0]} / {it_ls_results[benchmark][2]}s'])\n",
    "\n",
    "print('Лучший результат и среднее время за 10 запусков алгоритмов.')\n",
    "print(tabulate(table_time, tablefmt='fancy_grid'))"
   ]
  },
  {
   "cell_type": "code",
   "execution_count": 12,
   "metadata": {},
   "outputs": [],
   "source": [
    "for filename in ls_results:\n",
    "    with open('lab4_answers' + '/' + filename + '.sol', 'a') as f:\n",
    "        f.write(' '.join(list(map(str,ls_results[filename][1]))))"
   ]
  },
  {
   "cell_type": "code",
   "execution_count": null,
   "metadata": {},
   "outputs": [],
   "source": []
  }
 ],
 "metadata": {
  "interpreter": {
   "hash": "0c06f3972981f437a776addee7a43d07100d9c9f8aa6cd091fbcb8d22a1d6ff6"
  },
  "kernelspec": {
   "display_name": "Python 3.10.1 64-bit",
   "language": "python",
   "name": "python3"
  },
  "language_info": {
   "codemirror_mode": {
    "name": "ipython",
    "version": 3
   },
   "file_extension": ".py",
   "mimetype": "text/x-python",
   "name": "python",
   "nbconvert_exporter": "python",
   "pygments_lexer": "ipython3",
   "version": "3.10.1"
  }
 },
 "nbformat": 4,
 "nbformat_minor": 4
}

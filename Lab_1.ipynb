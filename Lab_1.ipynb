{
  "cells": [
    {
      "cell_type": "markdown",
      "metadata": {
        "id": "j1Vu4geCbmQH"
      },
      "source": [
        "**Лабораторная работа №1**\n",
        "\n"
      ]
    },
    {
      "cell_type": "markdown",
      "metadata": {
        "id": "0Jo3Cq40b9tz"
      },
      "source": [
        "Выполнили: Баринов Даниил, Бугров Лев, Голованов Денис"
      ]
    },
    {
      "cell_type": "code",
      "execution_count": 1,
      "metadata": {
        "id": "M4ijgRLYb_qd"
      },
      "outputs": [],
      "source": [
        "import random\n",
        "import time\n",
        "from collections import deque\n",
        "from tabulate import tabulate"
      ]
    },
    {
      "cell_type": "markdown",
      "metadata": {
        "id": "VkW5Ac0UcFdb"
      },
      "source": [
        "Наивный алгоритм"
      ]
    },
    {
      "cell_type": "code",
      "execution_count": 2,
      "metadata": {
        "id": "7tdJKJgVcG6d"
      },
      "outputs": [],
      "source": [
        "def simple_search(text, template):\n",
        "    n = len(text)\n",
        "    m = len(template)\n",
        "    comp_count = 0\n",
        "    for i in range(n - m + 1):\n",
        "        comp_count += m\n",
        "        if text[i: i + m] == template:\n",
        "            return i, comp_count\n",
        "    return -1"
      ]
    },
    {
      "cell_type": "markdown",
      "metadata": {
        "id": "hT9po4UdcKUi"
      },
      "source": [
        "Алгоритм Рабина-Карпа"
      ]
    },
    {
      "cell_type": "code",
      "execution_count": 3,
      "metadata": {
        "id": "ncFxBBDDcMHS"
      },
      "outputs": [],
      "source": [
        "def rabin_karp_search(text, template, d = 10, q = 17):\n",
        "    n = len(text)\n",
        "    m = len(template)\n",
        "    comp_count = 0\n",
        "    h = d **(m - 1) % q\n",
        "    curr_text_hash = 0\n",
        "    template_hash = 0\n",
        "    \n",
        "    for i in range(m):\n",
        "        curr_text_hash = (d * curr_text_hash + ord(template[i])) % q\n",
        "        template_hash = (d * template_hash + ord(text[i])) % q\n",
        "    \n",
        "    for i in range(n - m + 1):\n",
        "        comp_count += 1\n",
        "        if curr_text_hash == template_hash:\n",
        "            comp_count += m\n",
        "            if template == text[i:i + m]:\n",
        "                return i, comp_count\n",
        "        \n",
        "        if i < n-m:\n",
        "            template_hash = (template_hash - h * ord(text[i])) % q \n",
        "            template_hash = (template_hash * d + ord(text[i + m])) % q\n",
        "            template_hash = (template_hash + q) % q\n",
        "    return -1"
      ]
    },
    {
      "cell_type": "markdown",
      "metadata": {
        "id": "qiM_6SY-cO3-"
      },
      "source": [
        "Алгоритм Кнута-Морис-Пратта"
      ]
    },
    {
      "cell_type": "code",
      "execution_count": 4,
      "metadata": {
        "id": "taBvLomlcQ_p"
      },
      "outputs": [],
      "source": [
        "def prefix(template):\n",
        "    S = [0]*len(template)\n",
        "    for i in range(1,len(template)):\n",
        "        k = S[i-1]\n",
        "        while k > 0 and template[k] != template[i]:\n",
        "            k = S[k-1]\n",
        "        if template[k] == template[i]:\n",
        "            k = k + 1\n",
        "        S[i] = k\n",
        "    return S\n",
        "\n",
        "\n",
        "def kmp_search(text,template):\n",
        "    comp_count = 0\n",
        "    p = prefix(template)\n",
        "    i = j = 0\n",
        "    while i < len(text) and j < len(template):\n",
        "        comp_count += 1\n",
        "        if template[j] == text[i]:\n",
        "            i+=1\n",
        "            j+=1\n",
        "        elif j==0:\n",
        "            i+=1\n",
        "        else:\n",
        "            j = p[j-1]\n",
        "\n",
        "    if j == len(template):\n",
        "        return i-j, comp_count\n",
        "    return -1"
      ]
    },
    {
      "cell_type": "markdown",
      "metadata": {
        "id": "9owjMc2-cd9Z"
      },
      "source": [
        "Тесты и проверки на бенчмарках"
      ]
    },
    {
      "cell_type": "code",
      "execution_count": 5,
      "metadata": {
        "id": "WUl2PhOCcrZl"
      },
      "outputs": [],
      "source": [
        "all_benchmark_paths = [\n",
        "    'benchmarks/bad_t_1.txt',\n",
        "    'benchmarks/bad_t_2.txt',\n",
        "    'benchmarks/bad_t_3.txt',\n",
        "    'benchmarks/bad_t_4.txt',\n",
        "    'benchmarks/bad_w_1.txt',\n",
        "    'benchmarks/bad_w_2.txt',\n",
        "    'benchmarks/bad_w_3.txt',\n",
        "    'benchmarks/bad_w_4.txt',\n",
        "    'benchmarks/good_t_1.txt',\n",
        "    'benchmarks/good_t_2.txt',\n",
        "    'benchmarks/good_t_3.txt',\n",
        "    'benchmarks/good_t_4.txt',\n",
        "    'benchmarks/good_w_1.txt',\n",
        "    'benchmarks/good_w_2.txt',\n",
        "    'benchmarks/good_w_3.txt',\n",
        "    'benchmarks/good_w_4.txt',\n",
        "]\n",
        "\n",
        "def read_benchmark_files(benchmark_paths):\n",
        "    benchmarks = dict()\n",
        "    for benchmark_path in benchmark_paths:\n",
        "        with open(benchmark_path, 'r', encoding='utf-8') as f:\n",
        "            benchmarks[benchmark_path[11:]] = f.read()\n",
        "    return benchmarks\n",
        "\n",
        "benchmarks = read_benchmark_files(all_benchmark_paths)"
      ]
    },
    {
      "cell_type": "code",
      "execution_count": 6,
      "metadata": {
        "id": "ZXZnkijmctt5"
      },
      "outputs": [],
      "source": [
        "def unit_test_search(text, search_algorithm, gap):\n",
        "    print(f'text: {text}')\n",
        "    n = len(text)\n",
        "    idx = random.randint(0, n - 1)\n",
        "    template = text[idx:idx + gap % n]\n",
        "    print(f'template: {template}')\n",
        "    print(f'test: {search_algorithm(text, template)}, true: {text.find(template)}')\n",
        "    assert search_algorithm(text, template)[0] == text.find(template)\n",
        "    print(\"Unit test succesfully passed\")"
      ]
    },
    {
      "cell_type": "code",
      "execution_count": 7,
      "metadata": {
        "id": "gix-9DQgcuLf"
      },
      "outputs": [],
      "source": [
        "def stress_test_search(text, search_algorithm, n_iter):\n",
        "    n = len(text)\n",
        "    for i in range(n_iter):\n",
        "        idx = random.randint(0, n - 1)\n",
        "        gap = random.randint(0, n - 1)\n",
        "        template = text[idx:idx + gap % n]\n",
        "        assert search_algorithm(text, template)[0] == text.find(template)\n",
        "    print(\"Stress test successfully passed\")"
      ]
    },
    {
      "cell_type": "code",
      "execution_count": 8,
      "metadata": {
        "id": "kdDz7ecncw25"
      },
      "outputs": [],
      "source": [
        "def measure_algorithm_time_and_validate(search_algorithm, text, template):\n",
        "    n = len(text)\n",
        "    start_time = time.time()\n",
        "    result = search_algorithm(text, template)\n",
        "    end_time = time.time()\n",
        "    assert result[0] == text.find(template)\n",
        "    return end_time - start_time, result[1]"
      ]
    },
    {
      "cell_type": "code",
      "execution_count": 9,
      "metadata": {
        "id": "tkRcTnQhcyMb"
      },
      "outputs": [],
      "source": [
        "def compute_results(benchmarks):\n",
        "    results = dict()\n",
        "    templates_keys = []\n",
        "    for key in benchmarks:\n",
        "        if '_t' in key:\n",
        "            results[key] = []\n",
        "        else:\n",
        "            templates_keys.append(key)\n",
        "            \n",
        "    i = 0\n",
        "    for key in results:\n",
        "        text = benchmarks[key]\n",
        "        template = benchmarks[templates_keys[i]]\n",
        "        i += 1\n",
        "        \n",
        "        results[key].append(measure_algorithm_time_and_validate(simple_search, text, template))\n",
        "        results[key].append(measure_algorithm_time_and_validate(rabin_karp_search, text, template))\n",
        "        results[key].append(measure_algorithm_time_and_validate(kmp_search,text, template))\n",
        "    return results"
      ]
    },
    {
      "cell_type": "code",
      "execution_count": 10,
      "metadata": {
        "id": "xA8gA6Lccy20"
      },
      "outputs": [],
      "source": [
        "def display_table_of_results(results, benchmarks):\n",
        "    table_time = [[' ', 'Naive', 'Rabin-Karp', 'Knuth-Morris-Pratt']]\n",
        "    \n",
        "    for benchmark in results:\n",
        "        table_time.append([benchmark] + list(map(lambda x: f'{round(x[0], 5)} / {x[1]}', results[benchmark])))\n",
        "    \n",
        "    print('Measurments of running time of algorithms and the number of comparisons (time, s / comparions number)')\n",
        "    print(tabulate(table_time, tablefmt='fancy_grid'))"
      ]
    },
    {
      "cell_type": "code",
      "execution_count": 11,
      "metadata": {
        "id": "B-PJqp5hc0KR"
      },
      "outputs": [
        {
          "name": "stdout",
          "output_type": "stream",
          "text": [
            "text: Да, я слышал про его план вечного мира, и это очень интересно, но едва ли возможно...\n",
            "template: о очень ин\n",
            "test: (44, 450), true: 44\n",
            "Unit test succesfully passed\n",
            "Stress test successfully passed\n"
          ]
        }
      ],
      "source": [
        "unit_test_search(benchmarks['good_w_2.txt'], simple_search, 10)\n",
        "stress_test_search(benchmarks['good_w_4.txt'], simple_search, 1000)"
      ]
    },
    {
      "cell_type": "code",
      "execution_count": 12,
      "metadata": {
        "id": "jvYwD4Hyc2Vp"
      },
      "outputs": [
        {
          "name": "stdout",
          "output_type": "stream",
          "text": [
            "text: Бутылка рому была принесена; раму, не пускавшую сесть на наружный откос окна, выламывали два\n",
            "template: ринесена\n",
            "test: (19, 44), true: 19\n",
            "Unit test succesfully passed\n",
            "Stress test successfully passed\n"
          ]
        }
      ],
      "source": [
        "unit_test_search(benchmarks['good_w_4.txt'], rabin_karp_search, 100)\n",
        "stress_test_search(benchmarks['good_w_1.txt'], rabin_karp_search, 1000)"
      ]
    },
    {
      "cell_type": "code",
      "execution_count": 13,
      "metadata": {
        "id": "Qh-aqpp9c50B"
      },
      "outputs": [
        {
          "name": "stdout",
          "output_type": "stream",
          "text": [
            "text: вспоминал свое обещание, но тут же, как это бывает с людьми, называемыми бесхарактерными, ему так страстно захотелось войти взглянуть еще раз на эту столь знакомую и надоевшую ему беспутную жизнь, и невольно пришла в голову мысль, что данное слово ничего не значит, к тому же, еще прежде, чем князю Андрею, он дал также Анатолю слово привезти долг; наконец, он подумал, что все эти\n",
            "template: характерными, ему так страстно захотелось войти взглянуть еще раз на эту столь знакомую и надоевшую \n",
            "test: (76, 176), true: 76\n",
            "Unit test succesfully passed\n",
            "Stress test successfully passed\n"
          ]
        }
      ],
      "source": [
        "unit_test_search(benchmarks['good_w_3.txt'], kmp_search, 100)\n",
        "stress_test_search(benchmarks['good_w_3.txt'], kmp_search, 1000)"
      ]
    },
    {
      "cell_type": "markdown",
      "metadata": {
        "id": "ejqDr4Tec7ub"
      },
      "source": [
        "Результаты"
      ]
    },
    {
      "cell_type": "code",
      "execution_count": 14,
      "metadata": {
        "id": "nxl5GVBlc9Xf"
      },
      "outputs": [],
      "source": [
        "results = compute_results(benchmarks)"
      ]
    },
    {
      "cell_type": "code",
      "execution_count": 15,
      "metadata": {
        "id": "WGSO7LNfc-og"
      },
      "outputs": [
        {
          "name": "stdout",
          "output_type": "stream",
          "text": [
            "Measurments of running time of algorithms and the number of comparisons (time, s / comparions number)\n",
            "╒══════════════╤═════════════════╤═════════════════╤════════════════════╕\n",
            "│              │ Naive           │ Rabin-Karp      │ Knuth-Morris-Pratt │\n",
            "├──────────────┼─────────────────┼─────────────────┼────────────────────┤\n",
            "│ bad_t_1.txt  │ 0.0 / 18        │ 0.0 / 11        │ 0.0 / 18           │\n",
            "├──────────────┼─────────────────┼─────────────────┼────────────────────┤\n",
            "│ bad_t_2.txt  │ 0.0 / 910       │ 0.0 / 101       │ 0.0 / 190          │\n",
            "├──────────────┼─────────────────┼─────────────────┼────────────────────┤\n",
            "│ bad_t_3.txt  │ 0.0 / 90100     │ 0.00099 / 1001  │ 0.0 / 1900         │\n",
            "├──────────────┼─────────────────┼─────────────────┼────────────────────┤\n",
            "│ bad_t_4.txt  │ 0.002 / 4001000 │ 0.002 / 5001    │ 0.00363 / 9000     │\n",
            "├──────────────┼─────────────────┼─────────────────┼────────────────────┤\n",
            "│ good_t_1.txt │ 0.00099 / 10200 │ 0.0 / 1110      │ 0.0 / 633          │\n",
            "├──────────────┼─────────────────┼─────────────────┼────────────────────┤\n",
            "│ good_t_2.txt │ 0.0 / 51935     │ 0.001 / 3501    │ 0.0 / 695          │\n",
            "├──────────────┼─────────────────┼─────────────────┼────────────────────┤\n",
            "│ good_t_3.txt │ 0.0 / 621030    │ 0.00099 / 40873 │ 0.0 / 2066         │\n",
            "├──────────────┼─────────────────┼─────────────────┼────────────────────┤\n",
            "│ good_t_4.txt │ 0.006 / 876116  │ 0.00502 / 65459 │ 0.00865 / 9614     │\n",
            "╘══════════════╧═════════════════╧═════════════════╧════════════════════╛\n"
          ]
        }
      ],
      "source": [
        "display_table_of_results(results, benchmarks)"
      ]
    },
    {
      "cell_type": "code",
      "execution_count": null,
      "metadata": {},
      "outputs": [],
      "source": []
    }
  ],
  "metadata": {
    "colab": {
      "name": "Lab1.ipynb",
      "provenance": []
    },
    "kernelspec": {
      "display_name": "Python 3",
      "name": "python3"
    },
    "language_info": {
      "codemirror_mode": {
        "name": "ipython",
        "version": 3
      },
      "file_extension": ".py",
      "mimetype": "text/x-python",
      "name": "python",
      "nbconvert_exporter": "python",
      "pygments_lexer": "ipython3",
      "version": "3.10.1"
    }
  },
  "nbformat": 4,
  "nbformat_minor": 0
}
